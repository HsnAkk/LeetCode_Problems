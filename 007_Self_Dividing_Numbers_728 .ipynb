{
 "cells": [
  {
   "cell_type": "code",
   "execution_count": 23,
   "metadata": {},
   "outputs": [
    {
     "data": {
      "text/plain": [
       "[1, 2, 3, 4, 5, 6, 7, 8, 9, 11, 12, 15, 22]"
      ]
     },
     "execution_count": 23,
     "metadata": {},
     "output_type": "execute_result"
    }
   ],
   "source": [
    "class Solution:\n",
    "    def selfDividingNumbers(left,right):\n",
    "        new_list = []\n",
    "        for i in range(left,right+1):\n",
    "            k = list(str(i))\n",
    "            if '0' not in k:\n",
    "                for x in k:\n",
    "                    if i%int(x)==0:\n",
    "                        k[k.index(x)] = True\n",
    "                    else:\n",
    "                        k[k.index(x)] = False\n",
    "                if all(k):\n",
    "                    new_list.append(i)\n",
    "                                \n",
    "        return new_list\n",
    "       \n",
    "Solution.selfDividingNumbers(1,22)"
   ]
  },
  {
   "cell_type": "code",
   "execution_count": null,
   "metadata": {},
   "outputs": [],
   "source": []
  }
 ],
 "metadata": {
  "kernelspec": {
   "display_name": "Python 3",
   "language": "python",
   "name": "python3"
  },
  "language_info": {
   "codemirror_mode": {
    "name": "ipython",
    "version": 3
   },
   "file_extension": ".py",
   "mimetype": "text/x-python",
   "name": "python",
   "nbconvert_exporter": "python",
   "pygments_lexer": "ipython3",
   "version": "3.6.6"
  }
 },
 "nbformat": 4,
 "nbformat_minor": 2
}
