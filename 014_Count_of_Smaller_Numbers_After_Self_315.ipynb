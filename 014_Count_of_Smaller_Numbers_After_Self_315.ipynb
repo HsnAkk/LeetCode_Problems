{
 "cells": [
  {
   "cell_type": "markdown",
   "metadata": {},
   "source": [
    "### 315. Count of Smaller Numbers After Self"
   ]
  },
  {
   "cell_type": "markdown",
   "metadata": {},
   "source": [
    "You are given an integer array nums and you have to return a new counts array. The counts array has the property where counts[i] is the number of smaller elements to the right of nums[i]."
   ]
  },
  {
   "cell_type": "code",
   "execution_count": 56,
   "metadata": {},
   "outputs": [
    {
     "name": "stdout",
     "output_type": "stream",
     "text": [
      "10 27 10 35 12 22 28 8 19 2 12 2 9 6 12 5 17 9 19 12 14 6 12 5 12 3 0 10 0 7 8 4 0 0 4 3 2 0 1 0\n"
     ]
    }
   ],
   "source": [
    "class Solution:\n",
    "    def countSmaller(nums):\n",
    "        nums_sol =[]\n",
    "        \n",
    "        while len(nums)>0:               # The loop continues till there is no element in the list \n",
    "            first_num = nums[0]                              # It gets the first number of the list\n",
    "            first_num_index =sorted(nums).index(first_num)   # It defines the index number of the first number.\n",
    "                                                             # It gives us how many numbers there are before this number. \n",
    "            nums.remove(first_num)                           # It removes the first number of the list\n",
    "            nums_sol.append(first_num_index)                 # It appends the number of smaller elements to a new list\n",
    "                \n",
    "        return nums_sol\n",
    "     \n",
    "        \n",
    "nums = [26,78,27,100,33,67,90,23,66,5,38,7,35,23,52,22,83,51,98,69,81,32,78,28,94,13,2,97,3,76,99,51,9,21,84,66,65,36,100,41]\n",
    "\n",
    "print(*Solution.countSmaller(nums))"
   ]
  }
 ],
 "metadata": {
  "kernelspec": {
   "display_name": "Python 3",
   "language": "python",
   "name": "python3"
  },
  "language_info": {
   "codemirror_mode": {
    "name": "ipython",
    "version": 3
   },
   "file_extension": ".py",
   "mimetype": "text/x-python",
   "name": "python",
   "nbconvert_exporter": "python",
   "pygments_lexer": "ipython3",
   "version": "3.6.6"
  }
 },
 "nbformat": 4,
 "nbformat_minor": 2
}
