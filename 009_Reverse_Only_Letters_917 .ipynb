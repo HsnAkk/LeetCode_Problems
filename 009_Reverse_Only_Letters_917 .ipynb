{
 "cells": [
  {
   "cell_type": "code",
   "execution_count": 31,
   "metadata": {},
   "outputs": [
    {
     "data": {
      "text/plain": [
       "'Qedo1ct-eeLg=ntse-T!'"
      ]
     },
     "execution_count": 31,
     "metadata": {},
     "output_type": "execute_result"
    }
   ],
   "source": [
    "class Solution:\n",
    "    def reverseOnlyLetters(S):\n",
    "        list_s = ' '.join(S).split(' ')\n",
    "        list_rev = list_s[::-1]\n",
    "        y=0\n",
    "        k=0\n",
    "        str_new =''\n",
    "        \n",
    "        for x in list_s:\n",
    "            if not x.isalpha():\n",
    "                str_new += x\n",
    "                continue\n",
    "               \n",
    "            elif (x.isalpha()) and (list_rev[k].isalpha()):\n",
    "                str_new +=list_rev[k]\n",
    "                k+=1\n",
    "                continue\n",
    "        \n",
    "            elif (x.isalpha()) and  (not list_rev[k].isalpha()):\n",
    "                y= k+1\n",
    "                while y<=len(list_rev):\n",
    "                    if list_rev[y].isalpha():\n",
    "                        str_new +=list_rev[y]   \n",
    "                        k=y+1\n",
    "                        break\n",
    "                    else:\n",
    "                        y+=1\n",
    "        return str_new   \n",
    "\n",
    "Solution.reverseOnlyLetters('Test1ng-Leet=code-Q!')"
   ]
  }
 ],
 "metadata": {
  "kernelspec": {
   "display_name": "Python 3",
   "language": "python",
   "name": "python3"
  },
  "language_info": {
   "codemirror_mode": {
    "name": "ipython",
    "version": 3
   },
   "file_extension": ".py",
   "mimetype": "text/x-python",
   "name": "python",
   "nbconvert_exporter": "python",
   "pygments_lexer": "ipython3",
   "version": "3.6.6"
  }
 },
 "nbformat": 4,
 "nbformat_minor": 2
}
