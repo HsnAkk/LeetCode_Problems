{
 "cells": [
  {
   "cell_type": "code",
   "execution_count": 1,
   "metadata": {},
   "outputs": [
    {
     "data": {
      "text/plain": [
       "4"
      ]
     },
     "execution_count": 1,
     "metadata": {},
     "output_type": "execute_result"
    }
   ],
   "source": [
    "class Solution:\n",
    "    \n",
    "    def dominantIndex(s):\n",
    "        x=s[:]\n",
    "        x.sort()\n",
    "        max_num = x[-1]\n",
    "        x.pop(-1)\n",
    "                \n",
    "        for i in x:\n",
    "            if max_num>= 2*i:\n",
    "                x[x.index(i)] = True\n",
    "            else:\n",
    "                x[x.index(i)] = False\n",
    "        \n",
    "        if all(x):\n",
    "            return s.index(max_num)\n",
    "        else:\n",
    "            return -1\n",
    "               \n",
    "Solution.dominantIndex([6,0,0,0,12])"
   ]
  }
 ],
 "metadata": {
  "kernelspec": {
   "display_name": "Python 3",
   "language": "python",
   "name": "python3"
  },
  "language_info": {
   "codemirror_mode": {
    "name": "ipython",
    "version": 3
   },
   "file_extension": ".py",
   "mimetype": "text/x-python",
   "name": "python",
   "nbconvert_exporter": "python",
   "pygments_lexer": "ipython3",
   "version": "3.6.6"
  }
 },
 "nbformat": 4,
 "nbformat_minor": 2
}
