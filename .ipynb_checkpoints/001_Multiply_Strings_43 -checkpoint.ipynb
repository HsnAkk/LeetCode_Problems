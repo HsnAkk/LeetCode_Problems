{
 "cells": [
  {
   "cell_type": "code",
   "execution_count": 42,
   "metadata": {},
   "outputs": [
    {
     "data": {
      "text/plain": [
       "'56088'"
      ]
     },
     "execution_count": 42,
     "metadata": {},
     "output_type": "execute_result"
    }
   ],
   "source": [
    "class Solution:\n",
    "    \n",
    "    def multiply(num1,num2):\n",
    "        \n",
    "        dic = {'0':0,'1':1,'2':2,'3':3,'4':4,'5':5,'6':6,'7':7,'8':8,'9':9}     \n",
    "        \n",
    "        n1 = ' '.join(num1).split(' ')\n",
    "        n2 = ' '.join(num2).split(' ')       \n",
    "        \n",
    "        n1_new = []\n",
    "        n2_new =[]\n",
    "            \n",
    "        [n1_new.append(dic[i]) for i in n1]\n",
    "            \n",
    "        [n2_new.append(dic[i]) for i in n2]        \n",
    "        \n",
    "        nb1 = 0\n",
    "        nb2 = 0\n",
    "        k= 1\n",
    "        for i in n1_new[::-1]:\n",
    "            nb1 += i*k\n",
    "            k *=10\n",
    "        k= 1\n",
    "        for x in n2_new[::-1]:\n",
    "            nb2 += x*k\n",
    "            k *=10\n",
    "        \n",
    "        return str(nb1*nb2)\n",
    "\n",
    "Solution.multiply('123','456')        "
   ]
  }
 ],
 "metadata": {
  "kernelspec": {
   "display_name": "Python 3",
   "language": "python",
   "name": "python3"
  },
  "language_info": {
   "codemirror_mode": {
    "name": "ipython",
    "version": 3
   },
   "file_extension": ".py",
   "mimetype": "text/x-python",
   "name": "python",
   "nbconvert_exporter": "python",
   "pygments_lexer": "ipython3",
   "version": "3.6.6"
  }
 },
 "nbformat": 4,
 "nbformat_minor": 2
}
