{
 "cells": [
  {
   "cell_type": "code",
   "execution_count": 33,
   "metadata": {},
   "outputs": [
    {
     "data": {
      "text/plain": [
       "'LEotcEde'"
      ]
     },
     "execution_count": 33,
     "metadata": {},
     "output_type": "execute_result"
    }
   ],
   "source": [
    "class Solution:\n",
    "    \n",
    "    def reverseVowels(s):\n",
    "        \n",
    "        str_new=''\n",
    "        list_s =list(s)\n",
    "        vowels = ['a','e','i','o','u','A','E','I','O','U']\n",
    "        \n",
    "        list_s_vow = []\n",
    "        for i in list_s:\n",
    "            if i in vowels:\n",
    "                list_s_vow.append(i)\n",
    "        \n",
    "        list_rev_vow = list_s_vow[::-1]\n",
    "        \n",
    "        k=0\n",
    "        for x in list_s:\n",
    "            if x not in vowels:\n",
    "                str_new += x\n",
    "            else:\n",
    "                str_new +=list_rev_vow[k]\n",
    "                k +=1\n",
    "        return str_new \n",
    "        \n",
    "Solution.reverseVowels('LeEtcodE')"
   ]
  }
 ],
 "metadata": {
  "kernelspec": {
   "display_name": "Python 3",
   "language": "python",
   "name": "python3"
  },
  "language_info": {
   "codemirror_mode": {
    "name": "ipython",
    "version": 3
   },
   "file_extension": ".py",
   "mimetype": "text/x-python",
   "name": "python",
   "nbconvert_exporter": "python",
   "pygments_lexer": "ipython3",
   "version": "3.6.6"
  }
 },
 "nbformat": 4,
 "nbformat_minor": 2
}
