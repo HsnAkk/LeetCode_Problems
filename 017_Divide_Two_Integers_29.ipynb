{
 "cells": [
  {
   "cell_type": "markdown",
   "metadata": {},
   "source": [
    "### 29. Divide Two Integers"
   ]
  },
  {
   "cell_type": "raw",
   "metadata": {},
   "source": [
    "Given two integers dividend and divisor, divide two integers without using multiplication, division and mod operator.\n",
    "\n",
    "Return the quotient after dividing dividend by divisor.\n",
    "\n",
    "The integer division should truncate toward zero.\n",
    "\n",
    "Example 1:\n",
    "\n",
    "Input: dividend = 10, divisor = 3\n",
    "Output: 3\n",
    "\n",
    "Example 2:\n",
    "\n",
    "Input: dividend = 7, divisor = -3\n",
    "Output: -2\n",
    "Note:\n",
    "\n",
    "Both dividend and divisor will be 32-bit signed integers.\n",
    "The divisor will never be 0.\n",
    "Assume we are dealing with an environment which could only store integers within the 32-bit signed integer range: [−2^31,  2^31 − 1]. For the purpose of this problem, assume that your function returns 231 − 1 when the division result overflows."
   ]
  },
  {
   "cell_type": "code",
   "execution_count": 4,
   "metadata": {},
   "outputs": [
    {
     "data": {
      "text/plain": [
       "-2147483648"
      ]
     },
     "execution_count": 4,
     "metadata": {},
     "output_type": "execute_result"
    }
   ],
   "source": [
    "class Solution:\n",
    "    def divide(dividend, divisor): \n",
    "      \n",
    "        pos_neg = (-1 if((dividend < 0) ^ (divisor < 0)) else 1); \n",
    "\n",
    "        dividend = abs(dividend); \n",
    "        divisor = abs(divisor); \n",
    "\n",
    "        result = 0; \n",
    "        temp = 0; \n",
    "\n",
    "        for i in range(31, -1, -1): \n",
    "            if (temp + (divisor << i) <= dividend): \n",
    "                temp += divisor << i; \n",
    "                result |= 1 << i;\n",
    "        \n",
    "        if (pos_neg * result) == -2**31:\n",
    "            \n",
    "            return -2**31\n",
    "        \n",
    "        elif (pos_neg * result) == 2**31:\n",
    "            return 2**31 - 1\n",
    "        \n",
    "        else:\n",
    "            return pos_neg * result; \n",
    "        \n",
    "Solution.divide(-2147483648,1)"
   ]
  }
 ],
 "metadata": {
  "kernelspec": {
   "display_name": "Python 3",
   "language": "python",
   "name": "python3"
  },
  "language_info": {
   "codemirror_mode": {
    "name": "ipython",
    "version": 3
   },
   "file_extension": ".py",
   "mimetype": "text/x-python",
   "name": "python",
   "nbconvert_exporter": "python",
   "pygments_lexer": "ipython3",
   "version": "3.6.6"
  }
 },
 "nbformat": 4,
 "nbformat_minor": 2
}
