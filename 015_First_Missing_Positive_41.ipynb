{
 "cells": [
  {
   "cell_type": "markdown",
   "metadata": {},
   "source": [
    "### 41. First Missing Positive"
   ]
  },
  {
   "cell_type": "markdown",
   "metadata": {},
   "source": [
    "Given an unsorted integer array, find the smallest missing positive integer.\n",
    "\n",
    "Note: Your algorithm should run in O(n) time and uses constant extra space."
   ]
  },
  {
   "cell_type": "code",
   "execution_count": 39,
   "metadata": {},
   "outputs": [
    {
     "data": {
      "text/plain": [
       "1"
      ]
     },
     "execution_count": 39,
     "metadata": {},
     "output_type": "execute_result"
    }
   ],
   "source": [
    "class Solution:\n",
    "    def firstMissingPositive(nums):\n",
    "        \n",
    "        if nums==[]:    # It controls the empty list, if nums is empty, it return 1\n",
    "            return 1\n",
    "            \n",
    "        nums_sorted =sorted(nums)\n",
    "        for i in nums_sorted:             # It seperates negativ and positiv numbers\n",
    "            if i >= 0:\n",
    "                nums_new = nums_sorted[nums_sorted.index(i) :]  # It makes a new list with positiv numbers\n",
    "                break\n",
    "        \n",
    "        i=1\n",
    "        while i>=1:               #It controls the smallest missing positive integer in a loop\n",
    "            if i in nums_new:    \n",
    "                i +=1\n",
    "            else:\n",
    "                return i\n",
    "                \n",
    "nums= [0,0]         \n",
    "Solution.firstMissingPositive(nums)        "
   ]
  }
 ],
 "metadata": {
  "kernelspec": {
   "display_name": "Python 3",
   "language": "python",
   "name": "python3"
  },
  "language_info": {
   "codemirror_mode": {
    "name": "ipython",
    "version": 3
   },
   "file_extension": ".py",
   "mimetype": "text/x-python",
   "name": "python",
   "nbconvert_exporter": "python",
   "pygments_lexer": "ipython3",
   "version": "3.6.6"
  }
 },
 "nbformat": 4,
 "nbformat_minor": 2
}
